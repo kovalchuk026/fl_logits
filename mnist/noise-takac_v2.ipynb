{
 "cells": [
  {
   "cell_type": "code",
   "execution_count": 1,
   "id": "43b405cc-a8d3-456e-84bc-3a995aa95f45",
   "metadata": {},
   "outputs": [],
   "source": [
    "%load_ext autoreload\n",
    "%autoreload 2"
   ]
  },
  {
   "cell_type": "code",
   "execution_count": 2,
   "id": "f593c86e-b59e-417d-aa31-0415aa6a8fcd",
   "metadata": {},
   "outputs": [
    {
     "name": "stdout",
     "output_type": "stream",
     "text": [
      "| 30%   44C    P2              80W / 300W |   1297MiB / 49140MiB |      5%      Default |\n",
      "| 30%   31C    P8              28W / 300W |  13253MiB / 49140MiB |      0%      Default |\n",
      "| 30%   31C    P8              23W / 300W |     12MiB / 49140MiB |      0%      Default |\n",
      "| 30%   31C    P8              17W / 300W |  22353MiB / 49140MiB |      0%      Default |\n",
      "| 50%   75C    P2             292W / 300W |  35619MiB / 49140MiB |     96%      Default |\n",
      "| 42%   71C    P2             257W / 300W |   6769MiB / 49140MiB |    100%      Default |\n",
      "| 30%   45C    P2              88W / 300W |   4958MiB / 49140MiB |     27%      Default |\n",
      "| 30%   49C    P2              99W / 300W |   6060MiB / 49140MiB |     34%      Default |\n"
     ]
    }
   ],
   "source": [
    "!nvidia-smi | grep 300W"
   ]
  },
  {
   "cell_type": "code",
   "execution_count": 3,
   "id": "15f79735-c659-4631-9c89-d560a3ba2b5a",
   "metadata": {},
   "outputs": [],
   "source": [
    "import os\n",
    "os.environ[\"CUDA_VISIBLE_DEVICES\"] = \"2\"\n",
    "pathPrefix =\"../data/\""
   ]
  },
  {
   "cell_type": "code",
   "execution_count": 4,
   "id": "1261199a",
   "metadata": {},
   "outputs": [],
   "source": [
    "import torch\n",
    "import torch.nn as nn\n",
    "import torch.nn.functional as F\n",
    "import torch.optim as optim\n",
    "from torchvision import datasets, transforms\n",
    "from torch.utils.data import DataLoader, Subset\n",
    "import numpy as np\n",
    "from collections import defaultdict\n",
    "import matplotlib.pyplot as plt"
   ]
  },
  {
   "cell_type": "code",
   "execution_count": 5,
   "id": "8fce3d20-015e-4918-a96a-21c0c2b8c0ba",
   "metadata": {},
   "outputs": [],
   "source": [
    "# !pip install torchvision"
   ]
  },
  {
   "cell_type": "code",
   "execution_count": 6,
   "id": "329d0e2a",
   "metadata": {},
   "outputs": [
    {
     "data": {
      "text/plain": [
       "<torch._C.Generator at 0x7d04bdb5e410>"
      ]
     },
     "execution_count": 6,
     "metadata": {},
     "output_type": "execute_result"
    }
   ],
   "source": [
    "seed = 0\n",
    "device = torch.device(\"cuda:0\" if torch.cuda.is_available() else \"cpu\")\n",
    "np.random.seed(seed)\n",
    "torch.manual_seed(seed)"
   ]
  },
  {
   "cell_type": "code",
   "execution_count": 114,
   "id": "9e726299",
   "metadata": {},
   "outputs": [],
   "source": [
    "# class SimpleCNN(nn.Module):\n",
    "#     def __init__(self):\n",
    "#         super().__init__()\n",
    "#         self.conv1 = nn.Conv2d(1, 16, 3, padding=1)\n",
    "#         self.fc = nn.Linear(16 * 28 * 28, 10)\n",
    "\n",
    "#     def forward(self, x):\n",
    "#         x = torch.relu(self.conv1(x))\n",
    "#         x = x.view(-1, 16 * 28 * 28)\n",
    "#         return self.fc(x)\n",
    "\n",
    "# from https://medium.com/@deepeshdeepakdd2/lenet-5-implementation-on-mnist-in-pytorch-c6f2ee306e37\n",
    "class SimpleCNN(nn.Module):\n",
    "    def __init__(self):\n",
    "        super().__init__()\n",
    "        self.feature = nn.Sequential(\n",
    "            #1\n",
    "            nn.Conv2d(in_channels=1, out_channels=6, kernel_size=5, stride=1, padding=2),   # 28*28->32*32-->28*28\n",
    "            nn.Tanh(),\n",
    "            nn.AvgPool2d(kernel_size=2, stride=2),  # 14*14\n",
    "            \n",
    "            #2\n",
    "            nn.Conv2d(in_channels=6, out_channels=16, kernel_size=5, stride=1),  # 10*10\n",
    "            nn.Tanh(),\n",
    "            nn.AvgPool2d(kernel_size=2, stride=2),  # 5*5\n",
    "            \n",
    "        )\n",
    "        self.classifier = nn.Sequential(\n",
    "            nn.Flatten(),\n",
    "            nn.Linear(in_features=16*5*5, out_features=120),\n",
    "            nn.Tanh(),\n",
    "            nn.Linear(in_features=120, out_features=84),\n",
    "            nn.Tanh(),\n",
    "            nn.Linear(in_features=84, out_features=10),\n",
    "        )\n",
    "        \n",
    "    def forward(self, x):\n",
    "        return self.classifier(self.feature(x))"
   ]
  },
  {
   "cell_type": "code",
   "execution_count": 115,
   "id": "872b1466",
   "metadata": {},
   "outputs": [],
   "source": [
    "def create_fixed_class_client_loaders(num_clients=4, k=5, batch_size=32):  #checked\n",
    "    \n",
    "    transform = transforms.Compose([\n",
    "        transforms.ToTensor(),\n",
    "        transforms.Normalize((0.1307,), (0.3081,))\n",
    "    ])\n",
    "\n",
    "    dataset = datasets.MNIST(root=\"./data\", train=True, download=True, transform=transform)\n",
    "\n",
    "    # Build class indices\n",
    "    class_indices = defaultdict(list)\n",
    "    for idx, (_, label) in enumerate(dataset):\n",
    "        class_indices[label].append(idx)\n",
    "    \n",
    "    for c in class_indices:\n",
    "        np.random.shuffle(class_indices[c])\n",
    "\n",
    "    # Assign exactly k unique classes to each client\n",
    "    all_classes = np.arange(10)\n",
    "    client_classes = [np.random.choice(all_classes, size=k, replace=False) for _ in range(num_clients)]\n",
    "\n",
    "    client_indices = [[] for _ in range(num_clients)]\n",
    "\n",
    "    # Distribute samples of each class to clients that need it\n",
    "    for class_id in range(10):\n",
    "    \n",
    "        # Clients that selected this class\n",
    "        clients_with_class = [cid for cid, classes in enumerate(client_classes) if class_id in classes]\n",
    "        if not clients_with_class:\n",
    "            continue\n",
    "\n",
    "        # Split class data among those clients\n",
    "        splits = np.array_split(class_indices[class_id], len(clients_with_class))\n",
    "        for cid, split in zip(clients_with_class, splits):\n",
    "            client_indices[cid].extend(split.tolist())\n",
    "\n",
    "    client_loaders = []\n",
    "    for indices in client_indices:\n",
    "        if not indices:\n",
    "            indices = [0] \n",
    "        loader = DataLoader(\n",
    "            Subset(dataset, indices),\n",
    "            batch_size=batch_size,\n",
    "            shuffle=True,\n",
    "            num_workers=2,\n",
    "            pin_memory=True,\n",
    "            drop_last=True\n",
    "        )\n",
    "        client_loaders.append(loader)\n",
    "    return client_loaders, client_classes\n"
   ]
  },
  {
   "cell_type": "code",
   "execution_count": 476,
   "id": "5e42f238",
   "metadata": {},
   "outputs": [],
   "source": [
    "def train_local(model, loader, optimizer, device, epochs=1, r=-1, lr = 0.01): #checked\n",
    "    model.train()\n",
    "    criterion = nn.CrossEntropyLoss()    \n",
    "    optimizer = optim.Adam(model.parameters(), lr=lr)\n",
    "    for _ in range(epochs):\n",
    "        for j, (data, target) in enumerate(loader):\n",
    "            data, target = data.to(device), target.to(device)\n",
    "            optimizer.zero_grad()\n",
    "            output = model(data)\n",
    "            loss = criterion(output, target)\n",
    "            loss.backward()\n",
    "            optimizer.step()\n",
    "            if r>=0:\n",
    "                if j>=r:\n",
    "                    return"
   ]
  },
  {
   "cell_type": "code",
   "execution_count": 117,
   "id": "352fa6f8",
   "metadata": {},
   "outputs": [],
   "source": [
    "def train_server(server_model, avg_logits, common_data, optimizer, epochs=1): #checked\n",
    "    server_model.train()\n",
    "    criterion = nn.KLDivLoss(reduction=\"batchmean\")\n",
    "\n",
    "    for _ in range(epochs):\n",
    "        for x, y in zip(common_data, avg_logits):\n",
    "            optimizer.zero_grad()\n",
    "            log_prob = F.log_softmax(server_model(x), dim=-1)\n",
    "            loss = criterion(log_prob, y)\n",
    "            loss.backward()\n",
    "            optimizer.step()"
   ]
  },
  {
   "cell_type": "code",
   "execution_count": 118,
   "id": "f57793ed",
   "metadata": {},
   "outputs": [],
   "source": [
    "def evaluate(model, test_loader, device): #checked\n",
    "    model.eval()\n",
    "    correct = 0\n",
    "    total = 0\n",
    "    with torch.no_grad():\n",
    "        for data, target in test_loader:\n",
    "            data, target = data.to(device), target.to(device)\n",
    "            output = model(data)\n",
    "            pred = output.argmax(dim=1, keepdim=True)\n",
    "            correct += pred.eq(target.view_as(pred)).sum().item()\n",
    "            total += target.size(0)\n",
    "    return correct / total"
   ]
  },
  {
   "cell_type": "code",
   "execution_count": 242,
   "id": "77d95ee4",
   "metadata": {},
   "outputs": [],
   "source": [
    "def zero_out_uncertain_logits(logits_list, threshold=1.2):  #checked\n",
    "    stacked = torch.stack(logits_list)        # [M, B, C]\n",
    "    # Compute entropy per model per sample\n",
    "    probs = F.softmax(stacked, dim=-1)        # [M, B, C]\n",
    "    entropy = -(probs * probs.log()).sum(dim=-1)   # [M, B]\n",
    "\n",
    "    # Mask: True if confident\n",
    "    mask = (entropy < threshold).float()      # [M, B]\n",
    "\n",
    "    # Expand mask to logits shape\n",
    "    mask_expanded = mask.unsqueeze(-1)        # [M, B, 1]\n",
    "\n",
    "    # Zero out uncertain logits\n",
    "    masked_logits = stacked * mask_expanded   # [M, B, C]\n",
    "\n",
    "    # Count how many models contributed per sample\n",
    "    denom = mask.sum(dim=0).unsqueeze(-1).clamp(min=1)  # [B, 1]\n",
    "\n",
    "    # Average only over confident models\n",
    "    avg_logits = masked_logits.sum(dim=0) / denom       # [B, C]\n",
    "\n",
    "    masked_probs = probs * mask_expanded\n",
    "    avg_probs = masked_probs.sum(dim=0) / denom\n",
    "    return avg_probs, torch.mean(entropy)\n",
    "\n",
    "\n",
    "\n",
    "            \n",
    "            \n"
   ]
  },
  {
   "cell_type": "code",
   "execution_count": 271,
   "id": "e211dd6b-73fa-43cf-a991-6ff2e327e5ac",
   "metadata": {},
   "outputs": [],
   "source": []
  },
  {
   "cell_type": "code",
   "execution_count": 321,
   "id": "ddd874ab-7511-4519-88f5-5fb2d5aff2b7",
   "metadata": {},
   "outputs": [],
   "source": []
  },
  {
   "cell_type": "code",
   "execution_count": null,
   "id": "03b8c207-7f61-4e9d-ba33-468895d52de6",
   "metadata": {},
   "outputs": [],
   "source": []
  },
  {
   "cell_type": "code",
   "execution_count": 320,
   "id": "b5c5be6a-9368-4b01-bc3a-7e00398aeeb1",
   "metadata": {},
   "outputs": [],
   "source": []
  },
  {
   "cell_type": "code",
   "execution_count": null,
   "id": "42a9e046-1438-48a4-b0cc-803b4946d118",
   "metadata": {},
   "outputs": [],
   "source": []
  },
  {
   "cell_type": "code",
   "execution_count": 497,
   "id": "31c71257",
   "metadata": {},
   "outputs": [],
   "source": [
    "num_clients = 20\n",
    "batch_size = 64\n",
    "common_data_size = 512\n",
    "k = 2\n",
    "threshold = 3\n",
    "\n",
    "client_loaders, _ = create_fixed_class_client_loaders(num_clients, batch_size=batch_size, k=k)\n",
    "\n",
    "transform = transforms.Compose([\n",
    "    transforms.ToTensor(),\n",
    "    transforms.Normalize((0.1307,), (0.3081,))\n",
    "])\n",
    "test_dataset = datasets.MNIST(root='./data', train=False, download=True, transform=transform)\n",
    "\n",
    "# Create a subset with specific indices\n",
    "indices = list(range(len(test_dataset)))  # e.g., first 1000 samples\n",
    "np.random.shuffle(indices)\n",
    "testSubset = Subset(test_dataset, indices[:1000])\n",
    "commonSubset = Subset(test_dataset, indices[1000:])\n",
    "\n",
    "# Use with DataLoader\n",
    "test_loader = torch.utils.data.DataLoader(testSubset, batch_size=batch_size, shuffle=False)\n",
    "common_loader = torch.utils.data.DataLoader(commonSubset, batch_size=batch_size, shuffle=True,)\n"
   ]
  },
  {
   "cell_type": "code",
   "execution_count": 498,
   "id": "263adb94-6a97-4dbd-9a2a-760a73990eb5",
   "metadata": {},
   "outputs": [
    {
     "data": {
      "image/png": "[encoded data removed]",
      "text/plain": [
       "<Figure size 640x480 with 1 Axes>"
      ]
     },
     "metadata": {},
     "output_type": "display_data"
    }
   ],
   "source": [
    "YS=[]\n",
    "for loader in client_loaders:\n",
    "    Y=[]\n",
    "    for x,y in loader:\n",
    "        Y.append(y)\n",
    "    YS.append(torch.cat(Y))\n",
    "Ys = torch.cat(YS)\n",
    "plt.hist(Ys,10);"
   ]
  },
  {
   "cell_type": "code",
   "execution_count": 499,
   "id": "e74967c8-0589-47e9-b7a7-89202308adda",
   "metadata": {},
   "outputs": [],
   "source": [
    "local_models = [SimpleCNN().to(device) for _ in range(num_clients)]\n",
    "server_model = SimpleCNN().to(device)\n",
    "\n",
    "local_optimizers = [optim.Adam(m.parameters(), lr=0.01) for m in local_models]\n",
    "server_optimizer = optim.Adam(server_model.parameters(), lr=0.01)\n"
   ]
  },
  {
   "cell_type": "code",
   "execution_count": 500,
   "id": "b95b8d49-474d-4f5b-9c75-acf62b85ff87",
   "metadata": {},
   "outputs": [],
   "source": [
    "R=-1\n",
    "LR=0.01\n",
    "EPOCHS = 20\n",
    "criterion = nn.KLDivLoss(reduction=\"batchmean\")\n",
    "up = 1.1\n",
    "targetProb = 0.6"
   ]
  },
  {
   "cell_type": "code",
   "execution_count": 501,
   "id": "16ef8c80-90b5-478d-9b7b-18095f4135a1",
   "metadata": {},
   "outputs": [],
   "source": [
    "criterionCE = nn.CrossEntropyLoss()    \n",
    "\n"
   ]
  },
  {
   "cell_type": "code",
   "execution_count": null,
   "id": "2068c674",
   "metadata": {},
   "outputs": [
    {
     "name": "stdout",
     "output_type": "stream",
     "text": [
      "1: 53.11111111111111% Server model accuracy on test set: 52.20%, local models average accuracy before copying: 19.42%\n"
     ]
    }
   ],
   "source": [
    "for r in range(2):\n",
    "    Pmax=[]\n",
    "    local_acc = []\n",
    "    for i, (model, loader, opt) in enumerate(zip(local_models, client_loaders, local_optimizers)):\n",
    "        train_local(model, loader, opt, device, epochs=EPOCHS, r=R, lr=LR)\n",
    "        if i % 5 == 0:\n",
    "            local_acc.append(evaluate(model, test_loader, device))\n",
    "\n",
    "    # EPOCHS=1\n",
    "    # LR=0.001\n",
    "    # R=-1\n",
    "    common_data = []\n",
    "    avg_logits = []\n",
    "    entropies = []\n",
    "    \n",
    "    server_model.train()    \n",
    "    for model in local_models:\n",
    "        model.eval()\n",
    "\n",
    "    cor = 0\n",
    "    tot = 0\n",
    "    for x, y in common_loader:\n",
    "        #for _ in range(common_data_size):\n",
    "            #x = torch.randn(batch_size, 1, 28, 28, device=device)\n",
    "            x = x.to(device)\n",
    "            common_data.append(x)\n",
    "            \n",
    "            with torch.no_grad():\n",
    "                local_logits = [m(x).detach() for m in local_models]\n",
    "                stacked = torch.stack(local_logits)\n",
    "                probs = F.softmax(stacked, dim=-1) \n",
    "                SEL=(torch.max(probs,-1)[0]<targetProb)\n",
    "                P = probs+0.0\n",
    "                P[SEL] *=0\n",
    "                P = torch.sum(P,axis=0)\n",
    "                S=torch.sum(P,1)\n",
    "                SEL = S>0\n",
    "                P = P[SEL] * (1/(S[SEL])).view([-1,1])\n",
    "                Pmax.append(torch.max(P,1)[0].data.cpu())\n",
    "            if torch.sum(SEL)>0:\n",
    "                pred = P.argmax(dim=1, keepdim=True)\n",
    "    \n",
    "                server_optimizer.zero_grad()\n",
    "\n",
    "                \n",
    "                # log_prob = F.log_softmax(server_model(x[SEL]), dim=-1)\n",
    "                # loss = criterion(log_prob, P )\n",
    "\n",
    "                output = server_model(x[SEL])\n",
    "                loss = criterionCE(output, pred.squeeze())\n",
    "                \n",
    "                loss.backward()\n",
    "                server_optimizer.step()\n",
    "                pred = pred.cpu()\n",
    "                cor += pred.eq(y[SEL.cpu()].view_as(pred)).sum().item()\n",
    "                tot += len(y[SEL.cpu()])\n",
    "\n",
    "    targetProb *= up\n",
    "    if targetProb > 0.9:\n",
    "        targetProb = 0.9\n",
    "\n",
    "    \n",
    "    acc = evaluate(server_model, test_loader, device)\n",
    "    print(f\"{r + 1}: {cor/tot*100}% Server model accuracy on test set: {acc*100:.2f}%, local models average accuracy before copying: {np.mean(local_acc)*100:.2f}%\")\n",
    "    for model in local_models:\n",
    "        model.load_state_dict(server_model.state_dict())\n"
   ]
  },
  {
   "cell_type": "code",
   "execution_count": null,
   "id": "165c6d09-5617-4d50-ad6c-b47e1bd4793a",
   "metadata": {},
   "outputs": [],
   "source": []
  },
  {
   "cell_type": "code",
   "execution_count": null,
   "id": "03571547-c81f-46a2-a720-d55609200a9c",
   "metadata": {},
   "outputs": [],
   "source": []
  },
  {
   "cell_type": "code",
   "execution_count": null,
   "id": "295deb7b-4045-4454-9c71-2a76cc86759c",
   "metadata": {},
   "outputs": [],
   "source": []
  },
  {
   "cell_type": "code",
   "execution_count": null,
   "id": "cfeef4e0-c9fe-4d4d-ab02-5fc2cbd7014b",
   "metadata": {},
   "outputs": [],
   "source": []
  },
  {
   "cell_type": "code",
   "execution_count": null,
   "id": "4298aeca-f0e5-420f-adb2-720c0827413b",
   "metadata": {},
   "outputs": [],
   "source": []
  },
  {
   "cell_type": "code",
   "execution_count": 475,
   "id": "e90687e5-7388-482a-b307-22fc08cf273a",
   "metadata": {},
   "outputs": [
    {
     "name": "stdout",
     "output_type": "stream",
     "text": [
      "1: 83.63889533534463% Server model accuracy on test set: 82.30%, local models average accuracy before copying: 84.05%\n",
      "2: 83.38148618976078% Server model accuracy on test set: 82.20%, local models average accuracy before copying: 83.10%\n",
      "3: 83.7571780147662% Server model accuracy on test set: 82.40%, local models average accuracy before copying: 82.80%\n",
      "4: 83.45724907063197% Server model accuracy on test set: 83.40%, local models average accuracy before copying: 83.35%\n",
      "47: 83.9041496201052% Server model accuracy on test set: 81.00%, local models average accuracy before copying: 81.80%\n",
      "48: 83.91436593355171% Server model accuracy on test set: 81.40%, local models average accuracy before copying: 81.75%\n",
      "49: 84.22279189000234% Server model accuracy on test set: 81.90%, local models average accuracy before copying: 82.15%\n",
      "50: 84.11149825783973% Server model accuracy on test set: 82.00%, local models average accuracy before copying: 82.40%\n",
      "51: 84.09459772779968% Server model accuracy on test set: 83.50%, local models average accuracy before copying: 82.40%\n",
      "52: 84.34184446776261% Server model accuracy on test set: 83.10%, local models average accuracy before copying: 83.45%\n",
      "53: 84.18283843815759% Server model accuracy on test set: 82.10%, local models average accuracy before copying: 83.05%\n",
      "54: 84.90521606028494% Server model accuracy on test set: 82.20%, local models average accuracy before copying: 82.65%\n",
      "55: 85.29860377801243% Server model accuracy on test set: 83.50%, local models average accuracy before copying: 83.00%\n",
      "56: 85.10142224294708% Server model accuracy on test set: 82.00%, local models average accuracy before copying: 83.60%\n",
      "57: 84.31326709526593% Server model accuracy on test set: 82.40%, local models average accuracy before copying: 82.95%\n",
      "58: 85.49216740706103% Server model accuracy on test set: 82.60%, local models average accuracy before copying: 82.85%\n",
      "59: 85.52004648460198% Server model accuracy on test set: 83.70%, local models average accuracy before copying: 83.25%\n",
      "60: 85.84994138335287% Server model accuracy on test set: 84.60%, local models average accuracy before copying: 84.10%\n",
      "61: 85.8611825192802% Server model accuracy on test set: 84.70%, local models average accuracy before copying: 84.95%\n",
      "62: 85.83690987124464% Server model accuracy on test set: 85.10%, local models average accuracy before copying: 84.85%\n",
      "63: 86.10177350179669% Server model accuracy on test set: 85.10%, local models average accuracy before copying: 85.10%\n",
      "64: 86.26444159178433% Server model accuracy on test set: 84.40%, local models average accuracy before copying: 85.50%\n"
     ]
    },
    {
     "ename": "KeyboardInterrupt",
     "evalue": "",
     "output_type": "error",
     "traceback": [
      "\u001b[0;31m---------------------------------------------------------------------------\u001b[0m",
      "\u001b[0;31mKeyboardInterrupt\u001b[0m                         Traceback (most recent call last)",
      "Cell \u001b[0;32mIn[475], line 52\u001b[0m\n\u001b[1;32m     49\u001b[0m output \u001b[38;5;241m=\u001b[39m server_model(x[SEL])\n\u001b[1;32m     50\u001b[0m loss \u001b[38;5;241m=\u001b[39m criterionCE(output, pred\u001b[38;5;241m.\u001b[39msqueeze())\n\u001b[0;32m---> 52\u001b[0m \u001b[43mloss\u001b[49m\u001b[38;5;241;43m.\u001b[39;49m\u001b[43mbackward\u001b[49m\u001b[43m(\u001b[49m\u001b[43m)\u001b[49m\n\u001b[1;32m     53\u001b[0m server_optimizer\u001b[38;5;241m.\u001b[39mstep()\n\u001b[1;32m     54\u001b[0m pred \u001b[38;5;241m=\u001b[39m pred\u001b[38;5;241m.\u001b[39mcpu()\n",
      "File \u001b[0;32m~/.conda/envs/fair-chem/lib/python3.11/site-packages/torch/_tensor.py:647\u001b[0m, in \u001b[0;36mTensor.backward\u001b[0;34m(self, gradient, retain_graph, create_graph, inputs)\u001b[0m\n\u001b[1;32m    637\u001b[0m \u001b[38;5;28;01mif\u001b[39;00m has_torch_function_unary(\u001b[38;5;28mself\u001b[39m):\n\u001b[1;32m    638\u001b[0m     \u001b[38;5;28;01mreturn\u001b[39;00m handle_torch_function(\n\u001b[1;32m    639\u001b[0m         Tensor\u001b[38;5;241m.\u001b[39mbackward,\n\u001b[1;32m    640\u001b[0m         (\u001b[38;5;28mself\u001b[39m,),\n\u001b[0;32m   (...)\u001b[0m\n\u001b[1;32m    645\u001b[0m         inputs\u001b[38;5;241m=\u001b[39minputs,\n\u001b[1;32m    646\u001b[0m     )\n\u001b[0;32m--> 647\u001b[0m \u001b[43mtorch\u001b[49m\u001b[38;5;241;43m.\u001b[39;49m\u001b[43mautograd\u001b[49m\u001b[38;5;241;43m.\u001b[39;49m\u001b[43mbackward\u001b[49m\u001b[43m(\u001b[49m\n\u001b[1;32m    648\u001b[0m \u001b[43m    \u001b[49m\u001b[38;5;28;43mself\u001b[39;49m\u001b[43m,\u001b[49m\u001b[43m \u001b[49m\u001b[43mgradient\u001b[49m\u001b[43m,\u001b[49m\u001b[43m \u001b[49m\u001b[43mretain_graph\u001b[49m\u001b[43m,\u001b[49m\u001b[43m \u001b[49m\u001b[43mcreate_graph\u001b[49m\u001b[43m,\u001b[49m\u001b[43m \u001b[49m\u001b[43minputs\u001b[49m\u001b[38;5;241;43m=\u001b[39;49m\u001b[43minputs\u001b[49m\n\u001b[1;32m    649\u001b[0m \u001b[43m\u001b[49m\u001b[43m)\u001b[49m\n",
      "File \u001b[0;32m~/.conda/envs/fair-chem/lib/python3.11/site-packages/torch/autograd/__init__.py:354\u001b[0m, in \u001b[0;36mbackward\u001b[0;34m(tensors, grad_tensors, retain_graph, create_graph, grad_variables, inputs)\u001b[0m\n\u001b[1;32m    349\u001b[0m     retain_graph \u001b[38;5;241m=\u001b[39m create_graph\n\u001b[1;32m    351\u001b[0m \u001b[38;5;66;03m# The reason we repeat the same comment below is that\u001b[39;00m\n\u001b[1;32m    352\u001b[0m \u001b[38;5;66;03m# some Python versions print out the first line of a multi-line function\u001b[39;00m\n\u001b[1;32m    353\u001b[0m \u001b[38;5;66;03m# calls in the traceback and some print out the last line\u001b[39;00m\n\u001b[0;32m--> 354\u001b[0m \u001b[43m_engine_run_backward\u001b[49m\u001b[43m(\u001b[49m\n\u001b[1;32m    355\u001b[0m \u001b[43m    \u001b[49m\u001b[43mtensors\u001b[49m\u001b[43m,\u001b[49m\n\u001b[1;32m    356\u001b[0m \u001b[43m    \u001b[49m\u001b[43mgrad_tensors_\u001b[49m\u001b[43m,\u001b[49m\n\u001b[1;32m    357\u001b[0m \u001b[43m    \u001b[49m\u001b[43mretain_graph\u001b[49m\u001b[43m,\u001b[49m\n\u001b[1;32m    358\u001b[0m \u001b[43m    \u001b[49m\u001b[43mcreate_graph\u001b[49m\u001b[43m,\u001b[49m\n\u001b[1;32m    359\u001b[0m \u001b[43m    \u001b[49m\u001b[43minputs_tuple\u001b[49m\u001b[43m,\u001b[49m\n\u001b[1;32m    360\u001b[0m \u001b[43m    \u001b[49m\u001b[43mallow_unreachable\u001b[49m\u001b[38;5;241;43m=\u001b[39;49m\u001b[38;5;28;43;01mTrue\u001b[39;49;00m\u001b[43m,\u001b[49m\n\u001b[1;32m    361\u001b[0m \u001b[43m    \u001b[49m\u001b[43maccumulate_grad\u001b[49m\u001b[38;5;241;43m=\u001b[39;49m\u001b[38;5;28;43;01mTrue\u001b[39;49;00m\u001b[43m,\u001b[49m\n\u001b[1;32m    362\u001b[0m \u001b[43m\u001b[49m\u001b[43m)\u001b[49m\n",
      "File \u001b[0;32m~/.conda/envs/fair-chem/lib/python3.11/site-packages/torch/autograd/graph.py:829\u001b[0m, in \u001b[0;36m_engine_run_backward\u001b[0;34m(t_outputs, *args, **kwargs)\u001b[0m\n\u001b[1;32m    827\u001b[0m     unregister_hooks \u001b[38;5;241m=\u001b[39m _register_logging_hooks_on_whole_graph(t_outputs)\n\u001b[1;32m    828\u001b[0m \u001b[38;5;28;01mtry\u001b[39;00m:\n\u001b[0;32m--> 829\u001b[0m     \u001b[38;5;28;01mreturn\u001b[39;00m \u001b[43mVariable\u001b[49m\u001b[38;5;241;43m.\u001b[39;49m\u001b[43m_execution_engine\u001b[49m\u001b[38;5;241;43m.\u001b[39;49m\u001b[43mrun_backward\u001b[49m\u001b[43m(\u001b[49m\u001b[43m  \u001b[49m\u001b[38;5;66;43;03m# Calls into the C++ engine to run the backward pass\u001b[39;49;00m\n\u001b[1;32m    830\u001b[0m \u001b[43m        \u001b[49m\u001b[43mt_outputs\u001b[49m\u001b[43m,\u001b[49m\u001b[43m \u001b[49m\u001b[38;5;241;43m*\u001b[39;49m\u001b[43margs\u001b[49m\u001b[43m,\u001b[49m\u001b[43m \u001b[49m\u001b[38;5;241;43m*\u001b[39;49m\u001b[38;5;241;43m*\u001b[39;49m\u001b[43mkwargs\u001b[49m\n\u001b[1;32m    831\u001b[0m \u001b[43m    \u001b[49m\u001b[43m)\u001b[49m  \u001b[38;5;66;03m# Calls into the C++ engine to run the backward pass\u001b[39;00m\n\u001b[1;32m    832\u001b[0m \u001b[38;5;28;01mfinally\u001b[39;00m:\n\u001b[1;32m    833\u001b[0m     \u001b[38;5;28;01mif\u001b[39;00m attach_logging_hooks:\n",
      "\u001b[0;31mKeyboardInterrupt\u001b[0m: "
     ]
    }
   ],
   "source": [
    "for r in range(100):\n",
    "    Pmax=[]\n",
    "    local_acc = []\n",
    "    for i, (model, loader, opt) in enumerate(zip(local_models, client_loaders, local_optimizers)):\n",
    "        train_local(model, loader, opt, device, epochs=EPOCHS, r=R, lr=LR)\n",
    "        if i % 5 == 0:\n",
    "            local_acc.append(evaluate(model, test_loader, device))\n",
    "\n",
    "    EPOCHS=1\n",
    "    # LR=0.001\n",
    "    # R=-1\n",
    "    common_data = []\n",
    "    avg_logits = []\n",
    "    entropies = []\n",
    "    \n",
    "    server_model.train()    \n",
    "    for model in local_models:\n",
    "        model.eval()\n",
    "\n",
    "    cor = 0\n",
    "    tot = 0\n",
    "    for x, y in common_loader:\n",
    "        #for _ in range(common_data_size):\n",
    "            #x = torch.randn(batch_size, 1, 28, 28, device=device)\n",
    "            x = x.to(device)\n",
    "            common_data.append(x)\n",
    "            \n",
    "            with torch.no_grad():\n",
    "                local_logits = [m(x).detach() for m in local_models]\n",
    "                stacked = torch.stack(local_logits)\n",
    "                probs = F.softmax(stacked, dim=-1) \n",
    "                SEL=(torch.max(probs,-1)[0]<targetProb)\n",
    "                P = probs+0.0\n",
    "                P[SEL] *=0\n",
    "                P = torch.sum(P,axis=0)\n",
    "                S=torch.sum(P,1)\n",
    "                SEL = S>0\n",
    "                P = P[SEL] * (1/(S[SEL])).view([-1,1])\n",
    "                Pmax.append(torch.max(P,1)[0].data.cpu())\n",
    "            if torch.sum(SEL)>0:\n",
    "                pred = P.argmax(dim=1, keepdim=True)\n",
    "    \n",
    "                server_optimizer.zero_grad()\n",
    "\n",
    "                \n",
    "                # log_prob = F.log_softmax(server_model(x[SEL]), dim=-1)\n",
    "                # loss = criterion(log_prob, P )\n",
    "\n",
    "                output = server_model(x[SEL])\n",
    "                loss = criterionCE(output, pred.squeeze())\n",
    "                \n",
    "                loss.backward()\n",
    "                server_optimizer.step()\n",
    "                pred = pred.cpu()\n",
    "                cor += pred.eq(y[SEL.cpu()].view_as(pred)).sum().item()\n",
    "                tot += len(y[SEL.cpu()])\n",
    "\n",
    "    targetProb *= up\n",
    "    if targetProb > 0.9:\n",
    "        targetProb = 0.9\n",
    "\n",
    "    \n",
    "    acc = evaluate(server_model, test_loader, device)\n",
    "    print(f\"{r + 1}: {cor/tot*100}% Server model accuracy on test set: {acc*100:.2f}%, local models average accuracy before copying: {np.mean(local_acc)*100:.2f}%\")\n",
    "    for model in local_models:\n",
    "        model.load_state_dict(server_model.state_dict())\n"
   ]
  },
  {
   "cell_type": "code",
   "execution_count": 467,
   "id": "7a5dac4c-b0ee-4eb4-8f41-2a87e1956f91",
   "metadata": {},
   "outputs": [
    {
     "data": {
      "text/plain": [
       "tensor(2.3201, device='cuda:0', grad_fn=<NllLossBackward0>)"
      ]
     },
     "execution_count": 467,
     "metadata": {},
     "output_type": "execute_result"
    }
   ],
   "source": [
    "criterionCE(output, pred.squeeze())"
   ]
  },
  {
   "cell_type": "code",
   "execution_count": 441,
   "id": "286c6dcf-1ec5-4a06-a171-c6183d0b5cb7",
   "metadata": {},
   "outputs": [
    {
     "data": {
      "image/png": "[encoded data removed]",
      "text/plain": [
       "<Figure size 640x480 with 1 Axes>"
      ]
     },
     "metadata": {},
     "output_type": "display_data"
    }
   ],
   "source": [
    "plt.hist(torch.cat(Pmax));"
   ]
  },
  {
   "cell_type": "code",
   "execution_count": null,
   "id": "8e67ace3-e916-4126-b476-6610d01823ec",
   "metadata": {},
   "outputs": [],
   "source": []
  },
  {
   "cell_type": "code",
   "execution_count": 442,
   "id": "c0d9b7a0-23e4-48ee-b7de-9e11e8587d1a",
   "metadata": {},
   "outputs": [
    {
     "name": "stdout",
     "output_type": "stream",
     "text": [
      "accuracy centralized 0.911\n",
      "accuracy centralized 0.955\n",
      "accuracy centralized 0.961\n",
      "accuracy centralized 0.963\n",
      "accuracy centralized 0.969\n",
      "accuracy centralized 0.955\n",
      "accuracy centralized 0.963\n",
      "accuracy centralized 0.973\n",
      "accuracy centralized 0.97\n",
      "accuracy centralized 0.974\n"
     ]
    }
   ],
   "source": [
    "centralized = SimpleCNN().to(device)\n",
    "\n",
    "centralized_optimizer = optim.Adam(centralized.parameters(), lr=0.01)\n",
    "model.train()\n",
    "criterion = nn.CrossEntropyLoss()    \n",
    "\n",
    "for _ in range(10):\n",
    "    for j, (data, target) in enumerate(common_loader):\n",
    "        data, target = data.to(device), target.to(device)\n",
    "        centralized_optimizer.zero_grad()\n",
    "        output = centralized(data)\n",
    "        loss = criterion(output, target)\n",
    "        loss.backward()\n",
    "        centralized_optimizer.step()\n",
    "    acc = evaluate(centralized, test_loader, device)\n",
    "    print(\"accuracy centralized\", acc)"
   ]
  },
  {
   "cell_type": "code",
   "execution_count": 123,
   "id": "eeac16d9-ad18-4a9f-8576-407795a0d8a8",
   "metadata": {},
   "outputs": [],
   "source": [
    "    \n",
    "    \n",
    "\n"
   ]
  },
  {
   "cell_type": "code",
   "execution_count": null,
   "id": "03b8d800-0414-4650-9804-324e1cac0dca",
   "metadata": {},
   "outputs": [],
   "source": []
  },
  {
   "cell_type": "code",
   "execution_count": null,
   "id": "55b9b4b4-e039-4c67-90df-fccea6feec0a",
   "metadata": {},
   "outputs": [],
   "source": []
  },
  {
   "cell_type": "code",
   "execution_count": 126,
   "id": "78808d83",
   "metadata": {},
   "outputs": [
    {
     "data": {
      "text/plain": [
       "0.068"
      ]
     },
     "execution_count": 126,
     "metadata": {},
     "output_type": "execute_result"
    }
   ],
   "source": []
  },
  {
   "cell_type": "code",
   "execution_count": 195,
   "id": "68be3763",
   "metadata": {},
   "outputs": [
    {
     "name": "stdout",
     "output_type": "stream",
     "text": [
      "0.068\n",
      "0.068\n",
      "0.068\n",
      "0.068\n",
      "0.068\n",
      "0.068\n",
      "0.068\n",
      "0.068\n",
      "0.068\n",
      "0.068\n"
     ]
    }
   ],
   "source": [
    "for model in local_models:\n",
    "    model.load_state_dict(server_model.state_dict())\n",
    "    acc = evaluate(model, test_loader, device)\n",
    "    print(acc)"
   ]
  },
  {
   "cell_type": "code",
   "execution_count": 193,
   "id": "becd6cdb-333d-4ab1-85fc-ae163647a387",
   "metadata": {},
   "outputs": [],
   "source": [
    "train_local(model, common_loader, opt, device, epochs=1, r=-1, lr=0.01)"
   ]
  },
  {
   "cell_type": "code",
   "execution_count": 194,
   "id": "735afc92-abc5-429f-9df5-6c3ea2c55700",
   "metadata": {},
   "outputs": [
    {
     "name": "stdout",
     "output_type": "stream",
     "text": [
      "0.935\n"
     ]
    }
   ],
   "source": [
    "acc = evaluate(model, test_loader, device)\n",
    "print(acc)"
   ]
  },
  {
   "cell_type": "code",
   "execution_count": 177,
   "id": "dc12cde4-3c69-4a3f-8904-e79e1a6dc48b",
   "metadata": {},
   "outputs": [],
   "source": [
    "train_local(model, client_loaders[-1], opt, device, epochs=1, r=-1, lr=0.001)"
   ]
  },
  {
   "cell_type": "code",
   "execution_count": 178,
   "id": "684fab1a-4227-49dd-8d39-5556dd4518dd",
   "metadata": {},
   "outputs": [
    {
     "name": "stdout",
     "output_type": "stream",
     "text": [
      "0.687\n"
     ]
    }
   ],
   "source": [
    "acc = evaluate(model, test_loader, device)\n",
    "print(acc)"
   ]
  },
  {
   "cell_type": "code",
   "execution_count": null,
   "id": "6635442a-1568-4c6a-98fb-38a164ef5f69",
   "metadata": {},
   "outputs": [],
   "source": []
  },
  {
   "cell_type": "code",
   "execution_count": null,
   "id": "ddddab1a-2520-4df4-bcee-241105ed89d0",
   "metadata": {},
   "outputs": [],
   "source": []
  }
 ],
 "metadata": {
  "kernelspec": {
   "display_name": "Python 3 (ipykernel)",
   "language": "python",
   "name": "python3"
  },
  "language_info": {
   "codemirror_mode": {
    "name": "ipython",
    "version": 3
   },
   "file_extension": ".py",
   "mimetype": "text/x-python",
   "name": "python",
   "nbconvert_exporter": "python",
   "pygments_lexer": "ipython3",
   "version": "3.11.9"
  }
 },
 "nbformat": 4,
 "nbformat_minor": 5
}
